{
 "cells": [
  {
   "cell_type": "code",
   "execution_count": 1,
   "id": "d6863600",
   "metadata": {},
   "outputs": [],
   "source": [
    "import pandas as pd\n",
    "import re\n",
    "import warnings\n",
    "warnings.filterwarnings('ignore')\n",
    "import seaborn as sns\n",
    "import matplotlib.pyplot as plt\n",
    "\n",
    "from sklearn.preprocessing import LabelEncoder\n",
    "from sklearn.model_selection import GridSearchCV, train_test_split\n",
    "from sklearn.ensemble import RandomForestClassifier\n",
    "from sklearn.metrics import classification_report"
   ]
  },
  {
   "cell_type": "code",
   "execution_count": 2,
   "id": "e2315ce7",
   "metadata": {
    "scrolled": true
   },
   "outputs": [
    {
     "name": "stdout",
     "output_type": "stream",
     "text": [
      "Index(['permalink', 'name', 'homepage_url', 'category_list', 'market',\n",
      "       'funding_total_usd', 'status', 'country_code', 'state_code', 'region',\n",
      "       'city', 'funding_rounds', 'founded_at', 'founded_month',\n",
      "       'founded_quarter', 'founded_year', 'first_funding_at',\n",
      "       'last_funding_at', 'seed', 'venture', 'equity_crowdfunding',\n",
      "       'undisclosed', 'convertible_note', 'debt_financing', 'angel', 'grant',\n",
      "       'private_equity', 'post_ipo_equity', 'post_ipo_debt',\n",
      "       'secondary_market', 'product_crowdfunding', 'round_A', 'round_B',\n",
      "       'round_C', 'round_D', 'round_E', 'round_F', 'round_G', 'round_H'],\n",
      "      dtype='object')\n"
     ]
    }
   ],
   "source": [
    "df = pd.read_csv(\"/Users/jiangliwen/Desktop/MLAI/start_up.csv\",encoding= 'ISO-8859-1')\n",
    "df = df.rename(columns={' market ': \"market\", ' funding_total_usd ': \"funding_total_usd\"})\n",
    "print(df.columns)"
   ]
  },
  {
   "cell_type": "markdown",
   "id": "97c15ee8",
   "metadata": {},
   "source": [
    "# Data Cleaning"
   ]
  },
  {
   "cell_type": "code",
   "execution_count": 3,
   "id": "41da0495",
   "metadata": {},
   "outputs": [],
   "source": [
    "# the funding total column is read as a object so clearning it up so that we can use it as a numerical column\n",
    "df['funding_total_usd']=df['funding_total_usd'].str.replace(',','') # removing commas from funding_total_usd column\n",
    "df['funding_total_usd']=df['funding_total_usd'].str.replace(' ','')#removing extra space from funding_total_usd column\n",
    "df['funding_total_usd']=df['funding_total_usd'].str.replace('-','0') #removing - from funding_total_usd column and replacing with 0\n",
    "df['funding_total_usd'] = pd.to_numeric(df['funding_total_usd'],errors='coerce')# turning column to number"
   ]
  },
  {
   "cell_type": "code",
   "execution_count": 4,
   "id": "ab762961",
   "metadata": {},
   "outputs": [],
   "source": [
    "#turning all date columns in to date\n",
    "df['founded_at'] =  pd.to_datetime(df['founded_at'], format='%Y-%m-%d', errors = 'coerce') # conveting column into date and ignoring errors\n",
    "df['first_funding_at'] =  pd.to_datetime(df['first_funding_at'], format='%Y-%m-%d', errors = 'coerce')  # conveting column into date and ignoring errors\n",
    "df['last_funding_at'] =  pd.to_datetime(df['last_funding_at'], format='%Y-%m-%d', errors = 'coerce')  # conveting column into date and ignoring errors\n",
    "df['founded_year'] =  pd.to_datetime(df['founded_year'], format='%Y', errors = 'coerce') # conveting column into date and ignoring errors\n",
    "df['founded_month'] =  pd.to_datetime(df['founded_month'], format='%Y-%m', errors = 'coerce') # conveting column into date and ignoring errors\n",
    "\n",
    "df['market'] = df['market'].str.strip() #removing space from beginnning and end of market column"
   ]
  },
  {
   "cell_type": "markdown",
   "id": "b60120a3",
   "metadata": {},
   "source": [
    "# Feature Engineering"
   ]
  },
  {
   "cell_type": "code",
   "execution_count": 5,
   "id": "17e982db",
   "metadata": {},
   "outputs": [],
   "source": [
    "#dropping unecessary columns that I dont plan on using\n",
    "df = df.drop(columns= ['permalink','homepage_url','state_code','category_list','founded_month', 'founded_quarter','region'])\n",
    "\n",
    "df = df.dropna(subset=[ 'status', 'name', 'market', 'country_code'])\n",
    "\n",
    "cat_invest = pd.cut(df.funding_total_usd, bins = [-1, 112500, 1400300, 8205200, 40079503000], labels=['low','low_medium','high_medium','high'])\n",
    "#labeling total investment values as low, low medium, high medium and high based on their descriptive summary.\n",
    "df.insert(0,'cat_total_investment',cat_invest) # creating new column called cat_total_investment\n",
    "\n",
    "df['funding_rounds'] = pd.to_numeric(df['funding_rounds'], errors='coerce')  # turning column to number\n",
    "cat_funding_rounds = pd.cut(df.funding_rounds, bins = [-1, 2, 20], labels=['low','high'])\n",
    "#labeling funding_rounds as low and high based on their descriptive summary.\n",
    "df.insert(0,'cat_funding_rounds',cat_funding_rounds)# creating new column called cat_funding_rounds\n",
    "\n",
    "cat_seed = pd.cut(df.seed, bins = [-1, 28000, 140000000], labels=['low','high'])\n",
    "#labeling seed as low and high  based on their descriptive summary.\n",
    "df.insert(0,'cat_seed',cat_seed)# creating new column called cat_seed\n",
    "\n",
    "cat_venture = pd.cut(df.venture, bins = [-1, 85038.5, 6000000, 2451000000], labels=['low','medium','high'])\n",
    "#labeling venture as low, medium and high based on their descriptive summary.\n",
    "df.insert(0,'cat_venture',cat_venture) # creating new column called cat_venture\n",
    "\n",
    "# fixing the categorical columns  into numerical values so that we can use it on the model\n",
    "df['cat_status'] = df['status'].replace(['closed', 'operating', 'acquired'], [0, 1, 2])\n",
    "df['cat_total_investment'] = df['cat_total_investment'].replace(['low','low_medium','high_medium','high'], [0, 1, 2, 3])\n",
    "df['cat_funding_rounds'] = df['cat_funding_rounds'].replace(['low', 'high'], [0, 1])\n",
    "df['cat_seed'] = df['cat_seed'].replace(['low', 'high'], [0, 1])\n",
    "df['cat_venture'] = df['cat_venture'].replace(['low','medium','high'], [0, 1, 3])\n",
    "\n",
    "#as a lot of the money columns have 0, we are turning them into new categories of 0 and 1\n",
    "df.loc[df['equity_crowdfunding'] < 1, 'cat_equity_crowdfunding'] = 0\n",
    "df.loc[df['equity_crowdfunding'] > 1, 'cat_equity_crowdfunding'] = 1\n",
    "df['cat_equity_crowdfunding'] = df['cat_equity_crowdfunding'].astype('category')\n",
    "\n",
    "df.loc[df['undisclosed'] < 1, 'cat_undisclosed'] = 0\n",
    "df.loc[df['undisclosed'] > 1, 'cat_undisclosed'] = 1\n",
    "df['cat_undisclosed'] = df['cat_undisclosed'].astype('category')\n",
    "\n",
    "df.loc[df['convertible_note'] < 1, 'cat_convertible_note'] = 0\n",
    "df.loc[df['convertible_note'] > 1, 'cat_convertible_note'] = 1\n",
    "df['cat_convertible_note'] = df['cat_convertible_note'].astype('category')\n",
    "\n",
    "df.loc[df['debt_financing'] < 1, 'cat_debt_financing'] = 0\n",
    "df.loc[df['debt_financing'] > 1, 'cat_debt_financing'] = 1\n",
    "df['cat_debt_financing'] = df['cat_debt_financing'].astype('category')\n",
    "\n",
    "df.loc[df['angel'] < 1, 'cat_angel'] = 0\n",
    "df.loc[df['angel'] > 1, 'cat_angel'] = 1\n",
    "df['cat_angel'] = df['cat_angel']. astype('category')\n",
    "\n",
    "df.loc[df['grant'] < 1, 'cat_grant'] = 0\n",
    "df.loc[df['grant'] > 1, 'cat_grant'] = 1\n",
    "df['cat_grant'] = df['cat_grant'].astype('category')\n",
    "\n",
    "df.loc[df['private_equity'] < 1, 'cat_private_equity'] = 0\n",
    "df.loc[df['private_equity'] > 1, 'cat_private_equity'] = 1\n",
    "df['cat_private_equity'] = df['cat_private_equity'].astype('category')\n",
    "\n",
    "df.loc[df['post_ipo_equity'] < 1, 'cat_post_ipo_equity'] = 0\n",
    "df.loc[df['post_ipo_equity'] > 1, 'cat_post_ipo_equity'] = 1\n",
    "df['cat_post_ipo_equity'] = df['cat_post_ipo_equity'].astype('category')\n",
    "\n",
    "df.loc[df['post_ipo_debt'] < 1, 'cat_post_ipo_debt'] = 0\n",
    "df.loc[df['post_ipo_debt'] > 1, 'cat_post_ipo_debt'] = 1\n",
    "df['cat_post_ipo_debt'] = df['cat_post_ipo_debt'].astype('category')\n",
    "\n",
    "\n",
    "df.loc[df['product_crowdfunding'] < 1, 'cat_product_crowdfunding'] = 0\n",
    "df.loc[df['product_crowdfunding'] > 1, 'cat_product_crowdfunding'] = 1\n",
    "df['cat_product_crowdfunding'] = df['cat_product_crowdfunding'].astype('category')"
   ]
  },
  {
   "cell_type": "code",
   "execution_count": 6,
   "id": "07a35d65",
   "metadata": {},
   "outputs": [
    {
     "data": {
      "text/html": [
       "<div>\n",
       "<style scoped>\n",
       "    .dataframe tbody tr th:only-of-type {\n",
       "        vertical-align: middle;\n",
       "    }\n",
       "\n",
       "    .dataframe tbody tr th {\n",
       "        vertical-align: top;\n",
       "    }\n",
       "\n",
       "    .dataframe thead th {\n",
       "        text-align: right;\n",
       "    }\n",
       "</style>\n",
       "<table border=\"1\" class=\"dataframe\">\n",
       "  <thead>\n",
       "    <tr style=\"text-align: right;\">\n",
       "      <th></th>\n",
       "      <th>cat_venture</th>\n",
       "      <th>cat_seed</th>\n",
       "      <th>cat_funding_rounds</th>\n",
       "      <th>cat_total_investment</th>\n",
       "      <th>name</th>\n",
       "      <th>market</th>\n",
       "      <th>funding_total_usd</th>\n",
       "      <th>status</th>\n",
       "      <th>country_code</th>\n",
       "      <th>city</th>\n",
       "      <th>...</th>\n",
       "      <th>cat_post_ipo_equity</th>\n",
       "      <th>cat_post_ipo_debt</th>\n",
       "      <th>cat_product_crowdfunding</th>\n",
       "      <th>alpha-3</th>\n",
       "      <th>region</th>\n",
       "      <th>sub-region</th>\n",
       "      <th>region-code</th>\n",
       "      <th>sub-region-code</th>\n",
       "      <th>sub_region</th>\n",
       "      <th>sub_region_cat</th>\n",
       "    </tr>\n",
       "  </thead>\n",
       "  <tbody>\n",
       "    <tr>\n",
       "      <th>0</th>\n",
       "      <td>0</td>\n",
       "      <td>1</td>\n",
       "      <td>0</td>\n",
       "      <td>2</td>\n",
       "      <td>#waywire</td>\n",
       "      <td>News</td>\n",
       "      <td>1750000.0</td>\n",
       "      <td>acquired</td>\n",
       "      <td>USA</td>\n",
       "      <td>New York</td>\n",
       "      <td>...</td>\n",
       "      <td>0.0</td>\n",
       "      <td>0.0</td>\n",
       "      <td>0.0</td>\n",
       "      <td>USA</td>\n",
       "      <td>Americas</td>\n",
       "      <td>Northern America</td>\n",
       "      <td>19.0</td>\n",
       "      <td>21.0</td>\n",
       "      <td>Northern America</td>\n",
       "      <td>6</td>\n",
       "    </tr>\n",
       "    <tr>\n",
       "      <th>1</th>\n",
       "      <td>1</td>\n",
       "      <td>0</td>\n",
       "      <td>0</td>\n",
       "      <td>2</td>\n",
       "      <td>&amp;TV Communications</td>\n",
       "      <td>Games</td>\n",
       "      <td>4000000.0</td>\n",
       "      <td>operating</td>\n",
       "      <td>USA</td>\n",
       "      <td>Los Angeles</td>\n",
       "      <td>...</td>\n",
       "      <td>0.0</td>\n",
       "      <td>0.0</td>\n",
       "      <td>0.0</td>\n",
       "      <td>USA</td>\n",
       "      <td>Americas</td>\n",
       "      <td>Northern America</td>\n",
       "      <td>19.0</td>\n",
       "      <td>21.0</td>\n",
       "      <td>Northern America</td>\n",
       "      <td>6</td>\n",
       "    </tr>\n",
       "    <tr>\n",
       "      <th>2</th>\n",
       "      <td>0</td>\n",
       "      <td>0</td>\n",
       "      <td>0</td>\n",
       "      <td>0</td>\n",
       "      <td>-R- Ranch and Mine</td>\n",
       "      <td>Tourism</td>\n",
       "      <td>60000.0</td>\n",
       "      <td>operating</td>\n",
       "      <td>USA</td>\n",
       "      <td>Fort Worth</td>\n",
       "      <td>...</td>\n",
       "      <td>0.0</td>\n",
       "      <td>0.0</td>\n",
       "      <td>0.0</td>\n",
       "      <td>USA</td>\n",
       "      <td>Americas</td>\n",
       "      <td>Northern America</td>\n",
       "      <td>19.0</td>\n",
       "      <td>21.0</td>\n",
       "      <td>Northern America</td>\n",
       "      <td>6</td>\n",
       "    </tr>\n",
       "    <tr>\n",
       "      <th>3</th>\n",
       "      <td>0</td>\n",
       "      <td>0</td>\n",
       "      <td>0</td>\n",
       "      <td>0</td>\n",
       "      <td>004 Technologies</td>\n",
       "      <td>Software</td>\n",
       "      <td>0.0</td>\n",
       "      <td>operating</td>\n",
       "      <td>USA</td>\n",
       "      <td>Champaign</td>\n",
       "      <td>...</td>\n",
       "      <td>0.0</td>\n",
       "      <td>0.0</td>\n",
       "      <td>0.0</td>\n",
       "      <td>USA</td>\n",
       "      <td>Americas</td>\n",
       "      <td>Northern America</td>\n",
       "      <td>19.0</td>\n",
       "      <td>21.0</td>\n",
       "      <td>Northern America</td>\n",
       "      <td>6</td>\n",
       "    </tr>\n",
       "    <tr>\n",
       "      <th>4</th>\n",
       "      <td>0</td>\n",
       "      <td>0</td>\n",
       "      <td>0</td>\n",
       "      <td>0</td>\n",
       "      <td>1-4 All</td>\n",
       "      <td>Software</td>\n",
       "      <td>0.0</td>\n",
       "      <td>operating</td>\n",
       "      <td>USA</td>\n",
       "      <td>Connellys Springs</td>\n",
       "      <td>...</td>\n",
       "      <td>0.0</td>\n",
       "      <td>0.0</td>\n",
       "      <td>0.0</td>\n",
       "      <td>USA</td>\n",
       "      <td>Americas</td>\n",
       "      <td>Northern America</td>\n",
       "      <td>19.0</td>\n",
       "      <td>21.0</td>\n",
       "      <td>Northern America</td>\n",
       "      <td>6</td>\n",
       "    </tr>\n",
       "  </tbody>\n",
       "</table>\n",
       "<p>5 rows × 54 columns</p>\n",
       "</div>"
      ],
      "text/plain": [
       "  cat_venture cat_seed cat_funding_rounds cat_total_investment  \\\n",
       "0           0        1                  0                    2   \n",
       "1           1        0                  0                    2   \n",
       "2           0        0                  0                    0   \n",
       "3           0        0                  0                    0   \n",
       "4           0        0                  0                    0   \n",
       "\n",
       "                 name    market  funding_total_usd     status country_code  \\\n",
       "0            #waywire      News          1750000.0   acquired          USA   \n",
       "1  &TV Communications     Games          4000000.0  operating          USA   \n",
       "2  -R- Ranch and Mine   Tourism            60000.0  operating          USA   \n",
       "3    004 Technologies  Software                0.0  operating          USA   \n",
       "4             1-4 All  Software                0.0  operating          USA   \n",
       "\n",
       "                city  ...  cat_post_ipo_equity cat_post_ipo_debt  \\\n",
       "0           New York  ...                  0.0               0.0   \n",
       "1        Los Angeles  ...                  0.0               0.0   \n",
       "2         Fort Worth  ...                  0.0               0.0   \n",
       "3          Champaign  ...                  0.0               0.0   \n",
       "4  Connellys Springs  ...                  0.0               0.0   \n",
       "\n",
       "  cat_product_crowdfunding alpha-3    region        sub-region  region-code  \\\n",
       "0                      0.0     USA  Americas  Northern America         19.0   \n",
       "1                      0.0     USA  Americas  Northern America         19.0   \n",
       "2                      0.0     USA  Americas  Northern America         19.0   \n",
       "3                      0.0     USA  Americas  Northern America         19.0   \n",
       "4                      0.0     USA  Americas  Northern America         19.0   \n",
       "\n",
       "   sub-region-code        sub_region  sub_region_cat  \n",
       "0             21.0  Northern America               6  \n",
       "1             21.0  Northern America               6  \n",
       "2             21.0  Northern America               6  \n",
       "3             21.0  Northern America               6  \n",
       "4             21.0  Northern America               6  \n",
       "\n",
       "[5 rows x 54 columns]"
      ]
     },
     "execution_count": 6,
     "metadata": {},
     "output_type": "execute_result"
    }
   ],
   "source": [
    "# counrtry level comparison\n",
    "country = pd.read_csv('/Users/jiangliwen/Desktop/MLAI/country.csv') # uploading dataset to map countyr code to continent\n",
    "country = country[['alpha-3','region','sub-region','region-code','sub-region-code']]\n",
    "country = country.dropna(how='any',axis=0)\n",
    "country.isnull().sum() # checking if there is null values\n",
    "df1 = df.merge(country, left_on='country_code', right_on='alpha-3')\n",
    "df1['sub_region'] = df1['sub-region'].astype('category')\n",
    "label_encoder = LabelEncoder()\n",
    "df1['sub_region_cat'] = label_encoder.fit_transform(df1['sub_region'])\n",
    "\n",
    "category_mapping_region = dict(zip(label_encoder.classes_, label_encoder.transform(label_encoder.classes_)))\n",
    "\n",
    "df1.head()"
   ]
  },
  {
   "cell_type": "code",
   "execution_count": 7,
   "id": "0c1be3e1",
   "metadata": {},
   "outputs": [],
   "source": [
    "# grouping markets in industries to decrease the number of segments. The list was being taken from here https://support.crunchbase.com/hc/en-us/articles/360043146954-What-Industries-are-included-in-Crunchbase-\n",
    "admin_services = str('Employer Benefits Programs, Human Resource Automation, Corporate IT, Distribution, Service Providers, Archiving Service, Call Center, Collection Agency, College Recruiting, Courier Service, Debt Collections, Delivery, Document Preparation, Employee Benefits, Extermination Service, Facilities Support Services, Housekeeping Service, Human Resources, Knowledge Management, Office Administration, Packaging Services, Physical Security, Project Management, Staffing Agency, Trade Shows, Virtual Workforce').split(', ')\n",
    "advertising = str('Creative Industries, Promotional, Advertising Ad Exchange, Ad Network, Ad Retargeting, Ad Server, Ad Targeting, Advertising, Advertising Platforms, Affiliate Marketing, Local Advertising, Mobile Advertising, Outdoor Advertising, SEM, Social Media Advertising, Video Advertising').split(', ')\n",
    "agriculture = str('Agriculture, AgTech, Animal Feed, Aquaculture, Equestrian, Farming, Forestry, Horticulture, Hydroponics, Livestock').split(', ')\n",
    "app = str('Application Performance Monitoring, App Stores, Application Platforms, Enterprise Application, App Discovery, Apps, Consumer Applications, Enterprise Applications, Mobile Apps, Reading Apps, Web Apps').split(', ')\n",
    "artificial_intelli = str('Artificial Intelligence, Intelligent Systems, Machine Learning, Natural Language Processing, Predictive Analytics').split(', ')\n",
    "biotechnology = str('Synthetic Biology, Bio-Pharm, Bioinformatics, Biometrics, Biopharma, Biotechnology, Genetics, Life Science, Neuroscience, Quantified Self').split(', ')\n",
    "clothing = str('Fashion, Laundry and Dry-cleaning, Lingerie, Shoes').split(', ')\n",
    "shopping = str('Consumer Behavior, Customer Support Tools, Discounts, Reviews and Recommendations, Auctions, Classifieds, Collectibles, Consumer Reviews, Coupons, E-Commerce, E-Commerce Platforms, Flash Sale, Gift, Gift Card, Gift Exchange, Gift Registry, Group Buying, Local Shopping, Made to Order, Marketplace, Online Auctions, Personalization, Point of Sale, Price Comparison, Rental, Retail, Retail Technology, Shopping, Shopping Mall, Social Shopping, Sporting Goods, Vending and Concessions, Virtual Goods, Wholesale').split(', ')\n",
    "community = str(\"Self Development, Sex, Forums, Match-Making, Babies, Identity, Women, Kids, Entrepreneur, Networking, Adult, Baby, Cannabis, Children, Communities, Dating, Elderly, Family, Funerals, Humanitarian, Leisure, LGBT, Lifestyle, Men's, Online Forums, Parenting, Pet, Private Social Networking, Professional Networking, Q&A, Religion, Retirement, Sex Industry, Sex Tech, Social, Social Entrepreneurship, Teenagers, Virtual World, Wedding, Women's, Young Adults\").split(', ')\n",
    "electronics  = str('Mac, iPod Touch, Tablets, iPad, iPhone, Computer, Consumer Electronics, Drones, Electronics, Google Glass, Mobile Devices, Nintendo, Playstation, Roku, Smart Home, Wearables, Windows Phone, Xbox').split(', ')\n",
    "consumer_goods= str('Commodities, Sunglasses, Groceries, Batteries, Cars, Beauty, Comics, Consumer Goods, Cosmetics, DIY, Drones, Eyewear, Fast-Moving Consumer Goods, Flowers, Furniture, Green Consumer Goods, Handmade, Jewelry, Lingerie, Shoes, Tobacco, Toys').split(', ')\n",
    "content = str('E-Books, MicroBlogging, Opinions, Blogging Platforms, Content Delivery Network, Content Discovery, Content Syndication, Creative Agency, DRM, EBooks, Journalism, News, Photo Editing, Photo Sharing, Photography, Printing, Publishing, Social Bookmarking, Video Editing, Video Streaming').split(', ')\n",
    "data = str('Optimization, A/B Testing, Analytics, Application Performance Management, Artificial Intelligence, Big Data, Bioinformatics, Biometrics, Business Intelligence, Consumer Research, Data Integration, Data Mining, Data Visualization, Database, Facial Recognition, Geospatial, Image Recognition, Intelligent Systems, Location Based Services, Machine Learning, Market Research, Natural Language Processing, Predictive Analytics, Product Research, Quantified Self, Speech Recognition, Test and Measurement, Text Analytics, Usability Testing').split(', ')\n",
    "design = str('Visualization, Graphics, Design, Designers, CAD, Consumer Research, Data Visualization, Fashion, Graphic Design, Human Computer Interaction, Industrial Design, Interior Design, Market Research, Mechanical Design, Product Design, Product Research, Usability Testing, UX Design, Web Design').split(', ')\n",
    "education = str('Universities, College Campuses, University Students, High Schools, All Students, Colleges, Alumni, Charter Schools, College Recruiting, Continuing Education, Corporate Training, E-Learning, EdTech, Education, Edutainment, Higher Education, Language Learning, MOOC, Music Education, Personal Development, Primary Education, Secondary Education, Skill Assessment, STEM Education, Textbook, Training, Tutoring, Vocational Education').split(', ')\n",
    "energy = str('Gas, Natural Gas Uses, Oil, Oil & Gas, Battery, Biofuel, Biomass Energy, Clean Energy, Electrical Distribution, Energy, Energy Efficiency, Energy Management, Energy Storage, Fossil Fuels, Fuel, Fuel Cell, Oil and Gas, Power Grid, Renewable Energy, Solar, Wind Energy').split(', ')\n",
    "events = str('Concerts, Event Management, Event Promotion, Events, Nightclubs, Nightlife, Reservations, Ticketing, Wedding').split(', ')\n",
    "financial = str('Debt Collecting, P2P Money Transfer, Investment Management, Trading, Accounting, Angel Investment, Asset Management, Auto Insurance, Banking, Bitcoin, Commercial Insurance, Commercial Lending, Consumer Lending, Credit, Credit Bureau, Credit Cards, Crowdfunding, Cryptocurrency, Debit Cards, Debt Collections, Finance, Financial Exchanges, Financial Services, FinTech, Fraud Detection, Funding Platform, Gift Card, Health Insurance, Hedge Funds, Impact Investing, Incubators, Insurance, InsurTech, Leasing, Lending, Life Insurance, Micro Lending, Mobile Payments, Payments, Personal Finance, Prediction Markets, Property Insurance, Real Estate Investment, Stock Exchanges, Trading Platform, Transaction Processing, Venture Capital, Virtual Currency, Wealth Management').split(', ')\n",
    "food = str('Specialty Foods, Bakery, Brewing, Cannabis, Catering, Coffee, Confectionery, Cooking, Craft Beer, Dietary Supplements, Distillery, Farmers Market, Food and Beverage, Food Delivery, Food Processing, Food Trucks, Fruit, Grocery, Nutrition, Organic Food, Recipes, Restaurants, Seafood, Snack Food, Tea, Tobacco, Wine And Spirits, Winery').split(', ')\n",
    "gaming = str('Game, Games, Casual Games, Console Games, Contests, Fantasy Sports, Gambling, Gamification, Gaming, MMO Games, Online Games, PC Games, Serious Games, Video Games').split(', ')\n",
    "government = str('Polling, Governance, CivicTech, Government, GovTech, Law Enforcement, Military, National Security, Politics, Public Safety, Social Assistance').split(', ')\n",
    "hardware= str('Cable, 3D, 3D Technology, Application Specific Integrated Circuit (ASIC), Augmented Reality, Cloud Infrastructure, Communication Hardware, Communications Infrastructure, Computer, Computer Vision, Consumer Electronics, Data Center, Data Center Automation, Data Storage, Drone Management, Drones, DSP, Electronic Design Automation (EDA), Electronics, Embedded Systems, Field-Programmable Gate Array (FPGA), Flash Storage, Google Glass, GPS, GPU, Hardware, Industrial Design, Laser, Lighting, Mechanical Design, Mobile Devices, Network Hardware, NFC, Nintendo, Optical Communication, Playstation, Private Cloud, Retail Technology, RFID, RISC, Robotics, Roku, Satellite Communication, Semiconductor, Sensor, Sex Tech, Telecommunications, Video Conferencing, Virtual Reality, Virtualization, Wearables, Windows Phone, Wireless, Xbox').split(', ')\n",
    "health_care = str('Senior Health, Physicians, Electronic Health Records, Doctors, Healthcare Services, Diagnostics, Alternative Medicine, Assisted Living, Assistive Technology, Biopharma, Cannabis, Child Care, Clinical Trials, Cosmetic Surgery, Dental, Diabetes, Dietary Supplements, Elder Care, Electronic Health Record (EHR), Emergency Medicine, Employee Benefits, Fertility, First Aid, Funerals, Genetics, Health Care, Health Diagnostics, Home Health Care, Hospital, Medical, Medical Device, mHealth, Nursing and Residential Care, Nutraceutical, Nutrition, Outpatient Care, Personal Health, Pharmaceutical, Psychology, Rehabilitation, Therapeutics, Veterinary, Wellness').split(', ')\n",
    "it = str('Distributors, Algorithms, ICT, M2M, Technology, Business Information Systems, CivicTech, Cloud Data Services, Cloud Management, Cloud Security, CMS, Contact Management, CRM, Cyber Security, Data Center, Data Center Automation, Data Integration, Data Mining, Data Visualization, Document Management, E-Signature, Email, GovTech, Identity Management, Information and Communications Technology (ICT), Information Services, Information Technology, Intrusion Detection, IT Infrastructure, IT Management, Management Information Systems, Messaging, Military, Network Security, Penetration Testing, Private Cloud, Reputation, Sales Automation, Scheduling, Social CRM, Spam Filtering, Technical Support, Unified Communications, Video Chat, Video Conferencing, Virtualization, VoIP').split(', ')\n",
    "internet = str('Online Identity, Cyber, Portals, Web Presence Management, Domains, Tracking, Web Tools, Curated Web, Search, Cloud Computing, Cloud Data Services, Cloud Infrastructure, Cloud Management, Cloud Storage, Darknet, Domain Registrar, E-Commerce Platforms, Ediscovery, Email, Internet, Internet of Things, ISP, Location Based Services, Messaging, Music Streaming, Online Forums, Online Portals, Private Cloud, Product Search, Search Engine, SEM, Semantic Search, Semantic Web, SEO, SMS, Social Media, Social Media Management, Social Network, Unified Communications, Vertical Search, Video Chat, Video Conferencing, Visual Search, VoIP, Web Browsers, Web Hosting').split(', ')\n",
    "invest = str('Angel Investment, Banking, Commercial Lending, Consumer Lending, Credit, Credit Cards, Financial Exchanges, Funding Platform, Hedge Funds, Impact Investing, Incubators, Micro Lending, Stock Exchanges, Trading Platform, Venture Capital').split(', ')\n",
    "manufacturing = str('Innovation Engineering, Civil Engineers, Heavy Industry, Engineering Firms, Systems, 3D Printing, Advanced Materials, Foundries, Industrial, Industrial Automation, Industrial Engineering, Industrial Manufacturing, Machinery Manufacturing, Manufacturing, Paper Manufacturing, Plastics and Rubber Manufacturing, Textiles, Wood Processing').split(', ')\n",
    "media = str('Writers, Creative, Television, Entertainment, Media, Advice, Animation, Art, Audio, Audiobooks, Blogging Platforms, Broadcasting, Celebrity, Concerts, Content, Content Creators, Content Discovery, Content Syndication, Creative Agency, Digital Entertainment, Digital Media, DRM, EBooks, Edutainment, Event Management, Event Promotion, Events, Film, Film Distribution, Film Production, Guides, In-Flight Entertainment, Independent Music, Internet Radio, Journalism, Media and Entertainment, Motion Capture, Music, Music Education, Music Label, Music Streaming, Music Venues, Musical Instruments, News, Nightclubs, Nightlife, Performing Arts, Photo Editing, Photo Sharing, Photography, Podcast, Printing, Publishing, Reservations, Social Media, Social News, Theatre, Ticketing, TV, TV Production, Video, Video Editing, Video on Demand, Video Streaming, Virtual World').split(', ')\n",
    "message = str('Unifed Communications, Chat, Email, Meeting Software, Messaging, SMS, Unified Communications, Video Chat, Video Conferencing, VoIP, Wired Telecommunications').split(', ')\n",
    "mobile = str('Android, Google Glass, iOS, mHealth, Mobile, Mobile Apps, Mobile Devices, Mobile Payments, Windows Phone, Wireless').split(', ')\n",
    "music = str('Audio, Audiobooks, Independent Music, Internet Radio, Music, Music Education, Music Label, Music Streaming, Musical Instruments, Podcast').split(', ')\n",
    "resource = str('Biofuel, Biomass Energy, Fossil Fuels, Mineral, Mining, Mining Technology, Natural Resources, Oil and Gas, Precious Metals, Solar, Timber, Water, Wind Energy').split(', ')\n",
    "navigation = str('Maps, Geospatial, GPS, Indoor Positioning, Location Based Services, Mapping Services, Navigation').split(', ')\n",
    "other = str('Mass Customization, Monetization, Testing, Subscription Businesses, Mobility, Incentives, Peer-to-Peer, Nonprofits, Alumni, Association, B2B, B2C, Blockchain, Charity, Collaboration, Collaborative Consumption, Commercial, Consumer, Crowdsourcing, Customer Service, Desktop Apps, Emerging Markets, Enterprise, Ethereum, Franchise, Freemium, Generation Y, Generation Z, Homeless Shelter, Infrastructure, Knowledge Management, LGBT Millennials, Non Profit, Peer to Peer, Professional Services, Project Management, Real Time, Retirement, Service Industry, Sharing Economy, Small and Medium Businesses, Social Bookmarking, Social Impact, Subscription Service, Technical Support, Underserved Children, Universities').split(', ')\n",
    "payment = str('Billing, Bitcoin, Credit Cards, Cryptocurrency, Debit Cards, Fraud Detection, Mobile Payments, Payments, Transaction Processing, Virtual Currency').split(', ')\n",
    "platforms = str('Development Platforms, Android, Facebook, Google, Google Glass, iOS, Linux, macOS, Nintendo, Operating Systems, Playstation, Roku, Tizen, Twitter, WebOS, Windows, Windows Phone, Xbox').split(', ')\n",
    "privacy = str('Digital Rights Management, Personal Data, Cloud Security, Corrections Facilities, Cyber Security, DRM, E-Signature, Fraud Detection, Homeland Security, Identity Management, Intrusion Detection, Law Enforcement, Network Security, Penetration Testing, Physical Security, Privacy, Security').split(', ')\n",
    "services = str('Funeral Industry, English-Speaking, Spas, Plumbers, Service Industries, Staffing Firms, Translation, Career Management, Business Services, Services, Accounting, Business Development, Career Planning, Compliance, Consulting, Customer Service, Employment, Environmental Consulting, Field Support, Freelance, Intellectual Property, Innovation Management, Legal, Legal Tech, Management Consulting, Outsourcing, Professional Networking, Quality Assurance, Recruiting, Risk Management, Social Recruiting, Translation Service').split(', ')\n",
    "realestate= str('Office Space, Self Storage, Brokers, Storage, Home Owners, Self Storage , Realtors, Home & Garden, Utilities, Home Automation, Architecture, Building Maintenance, Building Material, Commercial Real Estate, Construction, Coworking, Facility Management, Fast-Moving Consumer Goods, Green Building, Home and Garden, Home Decor, Home Improvement, Home Renovation, Home Services, Interior Design, Janitorial Service, Landscaping, Property Development, Property Management, Real Estate, Real Estate Investment, Rental Property, Residential, Self-Storage, Smart Building, Smart Cities, Smart Home, Timeshare, Vacation Rental').split(', ')\n",
    "sales = str('Advertising, Affiliate Marketing, App Discovery, App Marketing, Brand Marketing, Cause Marketing, Content Marketing, CRM, Digital Marketing, Digital Signage, Direct Marketing, Direct Sales, Email Marketing, Lead Generation, Lead Management, Local, Local Advertising, Local Business, Loyalty Programs, Marketing, Marketing Automation, Mobile Advertising, Multi-level Marketing, Outdoor Advertising, Personal Branding, Public Relations, Sales, Sales Automation, SEM, SEO, Social CRM, Social Media Advertising, Social Media Management, Social Media Marketing, Sponsorship, Video Advertising').split(', ')\n",
    "science = str('Face Recognition, New Technologies, Advanced Materials, Aerospace, Artificial Intelligence, Bioinformatics, Biometrics, Biopharma, Biotechnology, Chemical, Chemical Engineering, Civil Engineering, Embedded Systems, Environmental Engineering, Human Computer Interaction, Industrial Automation, Industrial Engineering, Intelligent Systems, Laser, Life Science, Marine Technology, Mechanical Engineering, Nanotechnology, Neuroscience, Nuclear, Quantum Computing, Robotics, Semiconductor, Software Engineering, STEM Education').split(', ')\n",
    "software = str('Business Productivity, 3D Technology, Android, App Discovery, Application Performance Management, Apps, Artificial Intelligence, Augmented Reality, Billing, Bitcoin, Browser Extensions, CAD, Cloud Computing, Cloud Management, CMS, Computer Vision, Consumer Applications, Consumer Software, Contact Management, CRM, Cryptocurrency, Data Center Automation, Data Integration, Data Storage, Data Visualization, Database, Developer APIs, Developer Platform, Developer Tools, Document Management, Drone Management, E-Learning, EdTech, Electronic Design Automation (EDA), Embedded Software, Embedded Systems, Enterprise Applications, Enterprise Resource Planning (ERP), Enterprise Software, Facial Recognition, File Sharing, IaaS, Image Recognition, iOS, Linux, Machine Learning, macOS, Marketing Automation, Meeting Software, Mobile Apps, Mobile Payments, MOOC, Natural Language Processing, Open Source, Operating Systems, PaaS, Predictive Analytics, Presentation Software, Presentations, Private Cloud, Productivity Tools, QR Codes, Reading Apps, Retail Technology, Robotics, SaaS, Sales Automation, Scheduling, Sex Tech, Simulation, SNS, Social CRM, Software, Software Engineering, Speech Recognition, Task Management, Text Analytics, Transaction Processing, Video Conferencing, Virtual Assistant, Virtual Currency, Virtual Desktop, Virtual Goods, Virtual Reality, Virtual World, Virtualization, Web Apps, Web Browsers, Web Development').split(', ')\n",
    "sports = str('American Football, Baseball, Basketball, Boating, Cricket, Cycling, Diving, eSports, Fantasy Sports, Fitness, Golf, Hockey, Hunting, Outdoors, Racing, Recreation, Rugby, Sailing, Skiing, Soccer, Sporting Goods, Sports, Surfing, Swimming, Table Tennis, Tennis, Ultimate Frisbee, Volley Ball').split(', ')\n",
    "sustainability = str('Green, Wind, Biomass Power Generation, Renewable Tech, Environmental Innovation, Renewable Energies, Clean Technology, Biofuel, Biomass Energy, Clean Energy, CleanTech, Energy Efficiency, Environmental Engineering, Green Building, Green Consumer Goods, GreenTech, Natural Resources, Organic, Pollution Control, Recycling, Renewable Energy, Solar, Sustainability, Waste Management, Water Purification, Wind Energy').split(', ')\n",
    "transportation = str('Taxis, Air Transportation, Automotive, Autonomous Vehicles, Car Sharing, Courier Service, Delivery Service, Electric Vehicle, Ferry Service, Fleet Management, Food Delivery, Freight Service, Last Mile Transportation, Limousine Service, Logistics, Marine Transportation, Parking, Ports and Harbors, Procurement, Public Transportation, Railroad, Recreational Vehicles, Ride Sharing, Same Day Delivery, Shipping, Shipping Broker, Space Travel, Supply Chain Management, Taxi Service, Transportation, Warehousing, Water Transportation').split(', ')\n",
    "travel = str('Adventure Travel, Amusement Park and Arcade, Business Travel, Casino, Hospitality, Hotel, Museums and Historical Sites, Parks, Resorts, Timeshare, Tour Operator, Tourism, Travel, Travel Accommodations, Travel Agency, Vacation Rental').split(', ')\n",
    "video = str('Animation, Broadcasting, Film, Film Distribution, Film Production, Motion Capture, TV, TV Production, Video, Video Editing, Video on Demand, Video Streaming').split(', ')\n",
    "\n",
    "#Making new column called  Industry group\n",
    "df1['Industry_Group'] = pd.np.where(df1.market.str.contains('|'.join(admin_services), flags=re.IGNORECASE), \"Administrative Services\",\n",
    "                               pd.np.where(df1.market.str.contains('|'.join(software), flags=re.IGNORECASE), \"Software\",\n",
    "                               pd.np.where(df1.market.str.contains('|'.join(advertising), flags=re.IGNORECASE), \"Advertising\",\n",
    "                               pd.np.where(df1.market.str.contains('|'.join(agriculture), flags=re.IGNORECASE), \"Agriculture and Farming\",\n",
    "                               pd.np.where(df1.market.str.contains('|'.join(app), flags=re.IGNORECASE), \"Apps\",\n",
    "                               pd.np.where(df1.market.str.contains('|'.join(artificial_intelli), flags=re.IGNORECASE), \"Artificial Intelligence\",\n",
    "                               pd.np.where(df1.market.str.contains('|'.join(biotechnology), flags=re.IGNORECASE), \"Biotechnology\",\n",
    "                               pd.np.where(df1.market.str.contains('|'.join(clothing), flags=re.IGNORECASE), \"Clothing and Apparel\",\n",
    "                               pd.np.where(df1.market.str.contains('|'.join(shopping), flags=re.IGNORECASE), \"Commerce and Shopping\",\n",
    "                               pd.np.where(df1.market.str.contains('|'.join(community), flags=re.IGNORECASE), \"Community and Lifestyle\",\n",
    "                               pd.np.where(df1.market.str.contains('|'.join(electronics), flags=re.IGNORECASE), \"Consumer Electronics\",\n",
    "                               pd.np.where(df1.market.str.contains('|'.join(consumer_goods), flags=re.IGNORECASE), \"Consumer Goods\",\n",
    "                               pd.np.where(df1.market.str.contains('|'.join(content), flags=re.IGNORECASE), \"Content and Publishing\",\n",
    "                               pd.np.where(df1.market.str.contains('|'.join(data), flags=re.IGNORECASE), \"Data and Analytics\",\n",
    "                               pd.np.where(df1.market.str.contains('|'.join(design), flags=re.IGNORECASE), \"Design\",\n",
    "                               pd.np.where(df1.market.str.contains('|'.join(education), flags=re.IGNORECASE), \"Education\",\n",
    "                               pd.np.where(df1.market.str.contains('|'.join(energy), flags=re.IGNORECASE), \"Energy\",\n",
    "                               pd.np.where(df1.market.str.contains('|'.join(events), flags=re.IGNORECASE), \"Events\",\n",
    "                               pd.np.where(df1.market.str.contains('|'.join(financial), flags=re.IGNORECASE), \"Financial Services\",\n",
    "                               pd.np.where(df1.market.str.contains('|'.join(food), flags=re.IGNORECASE), \"Food and Beverage\",\n",
    "                               pd.np.where(df1.market.str.contains('|'.join(gaming), flags=re.IGNORECASE), \"Gaming\",\n",
    "                               pd.np.where(df1.market.str.contains('|'.join(government), flags=re.IGNORECASE), \"Government and Military\",\n",
    "                               pd.np.where(df1.market.str.contains('|'.join(hardware), flags=re.IGNORECASE), \"Hardware\",\n",
    "                               pd.np.where(df1.market.str.contains('|'.join(health_care), flags=re.IGNORECASE), \"Health Care\",\n",
    "                               pd.np.where(df1.market.str.contains('|'.join(it), flags=re.IGNORECASE), \"Information Technology\",\n",
    "                               pd.np.where(df1.market.str.contains('|'.join(internet), flags=re.IGNORECASE), \"Internet Services\",\n",
    "                               pd.np.where(df1.market.str.contains('|'.join(invest), flags=re.IGNORECASE), \"Lending and Investments\",\n",
    "                               pd.np.where(df1.market.str.contains('|'.join(manufacturing), flags=re.IGNORECASE), \"Manufacturing\",\n",
    "                               pd.np.where(df1.market.str.contains('|'.join(media), flags=re.IGNORECASE), \"Media and Entertainment\",\n",
    "                               pd.np.where(df1.market.str.contains('|'.join(message), flags=re.IGNORECASE), \"Messaging and Telecommunication\",\n",
    "                               pd.np.where(df1.market.str.contains('|'.join(mobile), flags=re.IGNORECASE), \"Mobile\",\n",
    "                               pd.np.where(df1.market.str.contains('|'.join(music), flags=re.IGNORECASE), \"Music and Audio\",\n",
    "                               pd.np.where(df1.market.str.contains('|'.join(resource), flags=re.IGNORECASE), \"Natural Resources\",\n",
    "                               pd.np.where(df1.market.str.contains('|'.join(navigation), flags=re.IGNORECASE), \"Navigation and Mapping\",\n",
    "                               pd.np.where(df1.market.str.contains('|'.join(payment), flags=re.IGNORECASE), \"Payments\",\n",
    "                               pd.np.where(df1.market.str.contains('|'.join(platforms), flags=re.IGNORECASE), \"Platforms\",\n",
    "                               pd.np.where(df1.market.str.contains('|'.join(privacy), flags=re.IGNORECASE), \"Privacy and Security\",\n",
    "                               pd.np.where(df1.market.str.contains('|'.join(services), flags=re.IGNORECASE), \"Professional Services\",\n",
    "                               pd.np.where(df1.market.str.contains('|'.join(realestate), flags=re.IGNORECASE), \"Real Estate\",\n",
    "                               pd.np.where(df1.market.str.contains('|'.join(sales), flags=re.IGNORECASE), \"Sales and Marketing\",\n",
    "                               pd.np.where(df1.market.str.contains('|'.join(science), flags=re.IGNORECASE), \"Science and Engineering\",\n",
    "                               pd.np.where(df1.market.str.contains('|'.join(sports), flags=re.IGNORECASE), \"Sports\",\n",
    "                               pd.np.where(df1.market.str.contains('|'.join(sustainability), flags=re.IGNORECASE), \"Sustainability\",\n",
    "                               pd.np.where(df1.market.str.contains('|'.join(transportation), flags=re.IGNORECASE), \"Transportation\",\n",
    "                               pd.np.where(df1.market.str.contains('|'.join(travel), flags=re.IGNORECASE), \"Travel and Tourism\",\n",
    "                               pd.np.where(df1.market.str.contains('|'.join(video), flags=re.IGNORECASE), \"Video\",\n",
    "                               pd.np.where(df1.market.str.contains('|'.join(other), flags=re.IGNORECASE), \"Other\",  \"Other\")))))))))))))))))))))))))))))))))))))))))))))))\n",
    "\n"
   ]
  },
  {
   "cell_type": "code",
   "execution_count": 8,
   "id": "422ca519",
   "metadata": {},
   "outputs": [
    {
     "name": "stdout",
     "output_type": "stream",
     "text": [
      "{'Administrative Services': 0, 'Advertising': 1, 'Agriculture and Farming': 2, 'Apps': 3, 'Artificial Intelligence': 4, 'Biotechnology': 5, 'Clothing and Apparel': 6, 'Commerce and Shopping': 7, 'Community and Lifestyle': 8, 'Consumer Electronics': 9, 'Consumer Goods': 10, 'Content and Publishing': 11, 'Data and Analytics': 12, 'Design': 13, 'Education': 14, 'Energy': 15, 'Events': 16, 'Financial Services': 17, 'Food and Beverage': 18, 'Gaming': 19, 'Government and Military': 20, 'Hardware': 21, 'Health Care': 22, 'Information Technology': 23, 'Internet Services': 24, 'Manufacturing': 25, 'Media and Entertainment': 26, 'Messaging and Telecommunication': 27, 'Mobile': 28, 'Natural Resources': 29, 'Navigation and Mapping': 30, 'Other': 31, 'Platforms': 32, 'Privacy and Security': 33, 'Professional Services': 34, 'Real Estate': 35, 'Sales and Marketing': 36, 'Science and Engineering': 37, 'Software': 38, 'Sports': 39, 'Sustainability': 40, 'Transportation': 41, 'Travel and Tourism': 42}\n"
     ]
    }
   ],
   "source": [
    "df1['Industry_Group'] = df1['Industry_Group'].astype('category')\n",
    "label_encoder = LabelEncoder()\n",
    "df1['cat_Industry_Group'] = label_encoder.fit_transform(df1['Industry_Group'])\n",
    "df1.head()\n",
    "\n",
    "category_mapping_industry = dict(zip(label_encoder.classes_, label_encoder.transform(label_encoder.classes_)))\n",
    "# Display the mapping\n",
    "print(category_mapping_industry)"
   ]
  },
  {
   "cell_type": "markdown",
   "id": "fabc2e9a",
   "metadata": {},
   "source": [
    "# Variable Selection"
   ]
  },
  {
   "cell_type": "code",
   "execution_count": 9,
   "id": "d245f747",
   "metadata": {},
   "outputs": [
    {
     "data": {
      "text/html": [
       "<div>\n",
       "<style scoped>\n",
       "    .dataframe tbody tr th:only-of-type {\n",
       "        vertical-align: middle;\n",
       "    }\n",
       "\n",
       "    .dataframe tbody tr th {\n",
       "        vertical-align: top;\n",
       "    }\n",
       "\n",
       "    .dataframe thead th {\n",
       "        text-align: right;\n",
       "    }\n",
       "</style>\n",
       "<table border=\"1\" class=\"dataframe\">\n",
       "  <thead>\n",
       "    <tr style=\"text-align: right;\">\n",
       "      <th></th>\n",
       "      <th>sub_region_cat</th>\n",
       "      <th>cat_status</th>\n",
       "      <th>cat_Industry_Group</th>\n",
       "    </tr>\n",
       "  </thead>\n",
       "  <tbody>\n",
       "    <tr>\n",
       "      <th>0</th>\n",
       "      <td>6</td>\n",
       "      <td>2</td>\n",
       "      <td>11</td>\n",
       "    </tr>\n",
       "    <tr>\n",
       "      <th>1</th>\n",
       "      <td>6</td>\n",
       "      <td>1</td>\n",
       "      <td>19</td>\n",
       "    </tr>\n",
       "    <tr>\n",
       "      <th>2</th>\n",
       "      <td>6</td>\n",
       "      <td>1</td>\n",
       "      <td>42</td>\n",
       "    </tr>\n",
       "    <tr>\n",
       "      <th>3</th>\n",
       "      <td>6</td>\n",
       "      <td>1</td>\n",
       "      <td>38</td>\n",
       "    </tr>\n",
       "    <tr>\n",
       "      <th>4</th>\n",
       "      <td>6</td>\n",
       "      <td>1</td>\n",
       "      <td>38</td>\n",
       "    </tr>\n",
       "  </tbody>\n",
       "</table>\n",
       "</div>"
      ],
      "text/plain": [
       "   sub_region_cat cat_status  cat_Industry_Group\n",
       "0               6          2                  11\n",
       "1               6          1                  19\n",
       "2               6          1                  42\n",
       "3               6          1                  38\n",
       "4               6          1                  38"
      ]
     },
     "execution_count": 9,
     "metadata": {},
     "output_type": "execute_result"
    }
   ],
   "source": [
    "df_plot = df1[['sub_region_cat','cat_status','cat_Industry_Group']]\n",
    "df_plot.head()"
   ]
  },
  {
   "cell_type": "code",
   "execution_count": 10,
   "id": "2a0767dc",
   "metadata": {},
   "outputs": [
    {
     "data": {
      "text/plain": [
       "<Figure size 720x432 with 0 Axes>"
      ]
     },
     "metadata": {},
     "output_type": "display_data"
    },
    {
     "data": {
      "image/png": "[encoded data removed]",
      "text/plain": [
       "<Figure size 720x432 with 1 Axes>"
      ]
     },
     "metadata": {
      "needs_background": "light"
     },
     "output_type": "display_data"
    },
    {
     "name": "stdout",
     "output_type": "stream",
     "text": [
      "0 : Administrative Services\n",
      "1 : Advertising\n",
      "2 : Agriculture and Farming\n",
      "3 : Apps\n",
      "4 : Artificial Intelligence\n",
      "5 : Biotechnology\n",
      "6 : Clothing and Apparel\n",
      "7 : Commerce and Shopping\n",
      "8 : Community and Lifestyle\n",
      "9 : Consumer Electronics\n",
      "10 : Consumer Goods\n",
      "11 : Content and Publishing\n",
      "12 : Data and Analytics\n",
      "13 : Design\n",
      "14 : Education\n",
      "15 : Energy\n",
      "16 : Events\n",
      "17 : Financial Services\n",
      "18 : Food and Beverage\n",
      "19 : Gaming\n",
      "20 : Government and Military\n",
      "21 : Hardware\n",
      "22 : Health Care\n",
      "23 : Information Technology\n",
      "24 : Internet Services\n",
      "25 : Manufacturing\n",
      "26 : Media and Entertainment\n",
      "27 : Messaging and Telecommunication\n",
      "28 : Mobile\n",
      "29 : Natural Resources\n",
      "30 : Navigation and Mapping\n",
      "31 : Other\n",
      "32 : Platforms\n",
      "33 : Privacy and Security\n",
      "34 : Professional Services\n",
      "35 : Real Estate\n",
      "36 : Sales and Marketing\n",
      "37 : Science and Engineering\n",
      "38 : Software\n",
      "39 : Sports\n",
      "40 : Sustainability\n",
      "41 : Transportation\n",
      "42 : Travel and Tourism\n"
     ]
    }
   ],
   "source": [
    "status_dict={'closed': 1, 'operating': 2, 'acquired':3}\n",
    "# 使用 Seaborn 的 barplot 函数创建分层柱状图\n",
    "plt.figure(figsize=(10, 6))  # 设置图形尺寸\n",
    "\n",
    "pivot_df = df_plot.pivot_table(index='cat_Industry_Group', columns='cat_status', aggfunc=len, fill_value=0)\n",
    "\n",
    "# Create a stacked bar plot using Matplotlib\n",
    "fig, ax = plt.subplots(figsize=(10, 6))\n",
    "\n",
    "pivot_df.plot(kind='bar', stacked=True, ax=ax)\n",
    "ax.set_yscale('log')  # Set y-axis to logarithmic scale\n",
    "\n",
    "# Add labels and title\n",
    "plt.xlabel('Industry')\n",
    "plt.ylabel('Count')\n",
    "plt.title('Stacked Column Chart of Industry by Status')\n",
    "\n",
    "# 显示图例\n",
    "# Create legend labels using the mapping dictionary\n",
    "legend_labels = [f'{value}: {key}' for key, value in status_dict.items()]\n",
    "\n",
    "# Add the legend to the right side of the plot\n",
    "plt.legend(legend_labels, title='Status', loc='upper right', bbox_to_anchor=(1, 1))\n",
    "\n",
    "# Show the plot\n",
    "plt.tight_layout()\n",
    "plt.show()\n",
    "\n",
    "for key,value in category_mapping_industry.items():\n",
    "    print(value,\":\",key)"
   ]
  },
  {
   "cell_type": "code",
   "execution_count": 11,
   "id": "d2a124fc",
   "metadata": {},
   "outputs": [
    {
     "data": {
      "text/plain": [
       "<Figure size 720x432 with 0 Axes>"
      ]
     },
     "metadata": {},
     "output_type": "display_data"
    },
    {
     "data": {
      "image/png": "[encoded data removed]",
      "text/plain": [
       "<Figure size 720x432 with 1 Axes>"
      ]
     },
     "metadata": {
      "needs_background": "light"
     },
     "output_type": "display_data"
    },
    {
     "name": "stdout",
     "output_type": "stream",
     "text": [
      "0 : Australia and New Zealand\n",
      "1 : Central Asia\n",
      "2 : Eastern Asia\n",
      "3 : Eastern Europe\n",
      "4 : Latin America and the Caribbean\n",
      "5 : Northern Africa\n",
      "6 : Northern America\n",
      "7 : Northern Europe\n",
      "8 : South-eastern Asia\n",
      "9 : Southern Asia\n",
      "10 : Southern Europe\n",
      "11 : Sub-Saharan Africa\n",
      "12 : Western Asia\n",
      "13 : Western Europe\n"
     ]
    }
   ],
   "source": [
    "plt.figure(figsize=(10, 6))  # 设置图形尺寸\n",
    "\n",
    "pivot_df = df_plot.pivot_table(index='sub_region_cat', columns='cat_status', aggfunc=len, fill_value=0)\n",
    "\n",
    "# Create a stacked bar plot using Matplotlib\n",
    "fig, ax = plt.subplots(figsize=(10, 6))\n",
    "\n",
    "pivot_df.plot(kind='bar', stacked=True, ax=ax)\n",
    "ax.set_yscale('log')  # Set y-axis to logarithmic scale\n",
    "\n",
    "# Add labels and title\n",
    "plt.xlabel('Region')\n",
    "plt.ylabel('Count')\n",
    "plt.title('Stacked Column Chart of Region by Status')\n",
    "\n",
    "# 显示图例\n",
    "# Create legend labels using the mapping dictionary\n",
    "legend_labels = [f'{value}: {key}' for key, value in status_dict.items()]\n",
    "\n",
    "# Add the legend to the right side of the plot\n",
    "plt.legend(legend_labels, title='Status', loc='upper right', bbox_to_anchor=(1, 1))\n",
    "\n",
    "# Show the plot\n",
    "plt.tight_layout()\n",
    "plt.show()\n",
    "\n",
    "for key,value in category_mapping_region.items():\n",
    "    print(value,\":\",key)\n",
    "\n"
   ]
  },
  {
   "cell_type": "markdown",
   "id": "172cfe06",
   "metadata": {},
   "source": [
    "From the two stacked bar charts above, we can conclude that region and industry group are two important classification feature. However, our dataset contains various features to describe the amount of money attained by various funding rounds, which of them are relatively important features relavent to the final classification of status? Let's do some feature selection work!"
   ]
  },
  {
   "cell_type": "code",
   "execution_count": 12,
   "id": "88d1c955",
   "metadata": {},
   "outputs": [
    {
     "data": {
      "text/html": [
       "<div>\n",
       "<style scoped>\n",
       "    .dataframe tbody tr th:only-of-type {\n",
       "        vertical-align: middle;\n",
       "    }\n",
       "\n",
       "    .dataframe tbody tr th {\n",
       "        vertical-align: top;\n",
       "    }\n",
       "\n",
       "    .dataframe thead th {\n",
       "        text-align: right;\n",
       "    }\n",
       "</style>\n",
       "<table border=\"1\" class=\"dataframe\">\n",
       "  <thead>\n",
       "    <tr style=\"text-align: right;\">\n",
       "      <th></th>\n",
       "      <th>cat_venture</th>\n",
       "      <th>cat_seed</th>\n",
       "      <th>cat_funding_rounds</th>\n",
       "      <th>cat_total_investment</th>\n",
       "      <th>cat_status</th>\n",
       "      <th>cat_equity_crowdfunding</th>\n",
       "      <th>cat_undisclosed</th>\n",
       "      <th>cat_convertible_note</th>\n",
       "      <th>cat_debt_financing</th>\n",
       "      <th>cat_angel</th>\n",
       "      <th>cat_grant</th>\n",
       "      <th>cat_private_equity</th>\n",
       "      <th>cat_post_ipo_equity</th>\n",
       "      <th>cat_post_ipo_debt</th>\n",
       "      <th>cat_product_crowdfunding</th>\n",
       "    </tr>\n",
       "  </thead>\n",
       "  <tbody>\n",
       "    <tr>\n",
       "      <th>0</th>\n",
       "      <td>0</td>\n",
       "      <td>1</td>\n",
       "      <td>0</td>\n",
       "      <td>2</td>\n",
       "      <td>2</td>\n",
       "      <td>0.0</td>\n",
       "      <td>0.0</td>\n",
       "      <td>0.0</td>\n",
       "      <td>0.0</td>\n",
       "      <td>0.0</td>\n",
       "      <td>0.0</td>\n",
       "      <td>0.0</td>\n",
       "      <td>0.0</td>\n",
       "      <td>0.0</td>\n",
       "      <td>0.0</td>\n",
       "    </tr>\n",
       "    <tr>\n",
       "      <th>1</th>\n",
       "      <td>1</td>\n",
       "      <td>0</td>\n",
       "      <td>0</td>\n",
       "      <td>2</td>\n",
       "      <td>1</td>\n",
       "      <td>0.0</td>\n",
       "      <td>0.0</td>\n",
       "      <td>0.0</td>\n",
       "      <td>0.0</td>\n",
       "      <td>0.0</td>\n",
       "      <td>0.0</td>\n",
       "      <td>0.0</td>\n",
       "      <td>0.0</td>\n",
       "      <td>0.0</td>\n",
       "      <td>0.0</td>\n",
       "    </tr>\n",
       "    <tr>\n",
       "      <th>2</th>\n",
       "      <td>0</td>\n",
       "      <td>0</td>\n",
       "      <td>0</td>\n",
       "      <td>0</td>\n",
       "      <td>1</td>\n",
       "      <td>1.0</td>\n",
       "      <td>0.0</td>\n",
       "      <td>0.0</td>\n",
       "      <td>0.0</td>\n",
       "      <td>0.0</td>\n",
       "      <td>0.0</td>\n",
       "      <td>0.0</td>\n",
       "      <td>0.0</td>\n",
       "      <td>0.0</td>\n",
       "      <td>0.0</td>\n",
       "    </tr>\n",
       "    <tr>\n",
       "      <th>3</th>\n",
       "      <td>0</td>\n",
       "      <td>0</td>\n",
       "      <td>0</td>\n",
       "      <td>0</td>\n",
       "      <td>1</td>\n",
       "      <td>0.0</td>\n",
       "      <td>0.0</td>\n",
       "      <td>0.0</td>\n",
       "      <td>0.0</td>\n",
       "      <td>0.0</td>\n",
       "      <td>0.0</td>\n",
       "      <td>0.0</td>\n",
       "      <td>0.0</td>\n",
       "      <td>0.0</td>\n",
       "      <td>0.0</td>\n",
       "    </tr>\n",
       "    <tr>\n",
       "      <th>4</th>\n",
       "      <td>0</td>\n",
       "      <td>0</td>\n",
       "      <td>0</td>\n",
       "      <td>0</td>\n",
       "      <td>1</td>\n",
       "      <td>0.0</td>\n",
       "      <td>0.0</td>\n",
       "      <td>0.0</td>\n",
       "      <td>0.0</td>\n",
       "      <td>0.0</td>\n",
       "      <td>0.0</td>\n",
       "      <td>0.0</td>\n",
       "      <td>0.0</td>\n",
       "      <td>0.0</td>\n",
       "      <td>0.0</td>\n",
       "    </tr>\n",
       "  </tbody>\n",
       "</table>\n",
       "</div>"
      ],
      "text/plain": [
       "  cat_venture cat_seed cat_funding_rounds cat_total_investment cat_status  \\\n",
       "0           0        1                  0                    2          2   \n",
       "1           1        0                  0                    2          1   \n",
       "2           0        0                  0                    0          1   \n",
       "3           0        0                  0                    0          1   \n",
       "4           0        0                  0                    0          1   \n",
       "\n",
       "  cat_equity_crowdfunding cat_undisclosed cat_convertible_note  \\\n",
       "0                     0.0             0.0                  0.0   \n",
       "1                     0.0             0.0                  0.0   \n",
       "2                     1.0             0.0                  0.0   \n",
       "3                     0.0             0.0                  0.0   \n",
       "4                     0.0             0.0                  0.0   \n",
       "\n",
       "  cat_debt_financing cat_angel cat_grant cat_private_equity  \\\n",
       "0                0.0       0.0       0.0                0.0   \n",
       "1                0.0       0.0       0.0                0.0   \n",
       "2                0.0       0.0       0.0                0.0   \n",
       "3                0.0       0.0       0.0                0.0   \n",
       "4                0.0       0.0       0.0                0.0   \n",
       "\n",
       "  cat_post_ipo_equity cat_post_ipo_debt cat_product_crowdfunding  \n",
       "0                 0.0               0.0                      0.0  \n",
       "1                 0.0               0.0                      0.0  \n",
       "2                 0.0               0.0                      0.0  \n",
       "3                 0.0               0.0                      0.0  \n",
       "4                 0.0               0.0                      0.0  "
      ]
     },
     "execution_count": 12,
     "metadata": {},
     "output_type": "execute_result"
    }
   ],
   "source": [
    "df2 = df1[['cat_venture', 'cat_seed',\n",
    "       'cat_funding_rounds', 'cat_total_investment',\n",
    "        'cat_status','cat_equity_crowdfunding','cat_undisclosed', 'cat_convertible_note',\n",
    "       'cat_debt_financing', 'cat_angel', 'cat_grant', 'cat_private_equity',\n",
    "       'cat_post_ipo_equity', 'cat_post_ipo_debt',\n",
    "       'cat_product_crowdfunding']]\n",
    "df2.dropna(inplace=True)\n",
    "\n",
    "df2.head()"
   ]
  },
  {
   "cell_type": "code",
   "execution_count": 13,
   "id": "f7907ce6",
   "metadata": {},
   "outputs": [],
   "source": [
    "Y = df2.cat_status\n",
    "Y = label_encoder.fit_transform(Y)\n",
    "#print(Y.dtypes)\n",
    "X = df2.drop('cat_status', axis = 1) #setting features\n",
    "#print(X.dtypes)"
   ]
  },
  {
   "cell_type": "code",
   "execution_count": 14,
   "id": "a8393708",
   "metadata": {},
   "outputs": [
    {
     "name": "stdout",
     "output_type": "stream",
     "text": [
      "              precision    recall  f1-score   support\n",
      "\n",
      "     Class 1       0.00      0.00      0.00       444\n",
      "     Class 2       0.86      1.00      0.92      6943\n",
      "     Class 3       0.12      0.00      0.00       682\n",
      "\n",
      "    accuracy                           0.86      8069\n",
      "   macro avg       0.33      0.33      0.31      8069\n",
      "weighted avg       0.75      0.86      0.80      8069\n",
      "\n",
      "Variable: cat_venture          Importance: 0.29\n",
      "Variable: cat_total_investment Importance: 0.26\n",
      "Variable: cat_seed             Importance: 0.09\n",
      "Variable: cat_funding_rounds   Importance: 0.06\n",
      "Variable: cat_angel            Importance: 0.06\n",
      "Variable: cat_debt_financing   Importance: 0.05\n",
      "Variable: cat_undisclosed      Importance: 0.04\n",
      "Variable: cat_grant            Importance: 0.04\n",
      "Variable: cat_private_equity   Importance: 0.03\n",
      "Variable: cat_equity_crowdfunding Importance: 0.02\n",
      "Variable: cat_convertible_note Importance: 0.02\n",
      "Variable: cat_post_ipo_equity  Importance: 0.02\n",
      "Variable: cat_post_ipo_debt    Importance: 0.01\n",
      "Variable: cat_product_crowdfunding Importance: 0.01\n"
     ]
    }
   ],
   "source": [
    "X_train, X_test, Y_train, Y_test = train_test_split(X, Y, test_size = 0.2, random_state = 42)# test and train dataset\n",
    "\n",
    "\n",
    "rfc = RandomForestClassifier(n_estimators = 1000, random_state = 42)\n",
    "rfc.fit(X_train, Y_train)#training the model\n",
    "rfc_pred_test = rfc.predict(X_test)\n",
    "print(classification_report(Y_test, rfc_pred_test, target_names=['Class 1', 'Class 2', 'Class 3'])) # model is overfitting for class2 and bad at fitting 1 and 3\n",
    "\n",
    "\n",
    "# Get numerical feature importances\n",
    "importances = list(rfc.feature_importances_)\n",
    "feature_list = list(X.columns)\n",
    "# List of tuples with variable and importance\n",
    "feature_importances = [(feature, round(importance, 2)) for feature, importance in zip(feature_list, importances)]\n",
    "# Sort the feature importances by most important first\n",
    "feature_importances = sorted(feature_importances, key = lambda x: x[1], reverse = True)\n",
    "# Print out the feature and importances\n",
    "[print('Variable: {:20} Importance: {}'.format(*pair)) for pair in feature_importances];\n"
   ]
  },
  {
   "cell_type": "markdown",
   "id": "90b9d62d",
   "metadata": {},
   "source": [
    "According to the ranking of importance, we decide to choose industry type, region, venture investment, total investment, angel investment and the number of funding rounds as features to perform the classification task , which is the columns named Industry_Group, sub_region_code, cat_venture,cat_total_investment, cat_seed, cat_funding_rounds."
   ]
  },
  {
   "cell_type": "markdown",
   "id": "7e153bc7",
   "metadata": {},
   "source": [
    "# Task1- Classification "
   ]
  },
  {
   "cell_type": "code",
   "execution_count": 15,
   "id": "8611f54c",
   "metadata": {},
   "outputs": [
    {
     "data": {
      "text/html": [
       "<div>\n",
       "<style scoped>\n",
       "    .dataframe tbody tr th:only-of-type {\n",
       "        vertical-align: middle;\n",
       "    }\n",
       "\n",
       "    .dataframe tbody tr th {\n",
       "        vertical-align: top;\n",
       "    }\n",
       "\n",
       "    .dataframe thead th {\n",
       "        text-align: right;\n",
       "    }\n",
       "</style>\n",
       "<table border=\"1\" class=\"dataframe\">\n",
       "  <thead>\n",
       "    <tr style=\"text-align: right;\">\n",
       "      <th></th>\n",
       "      <th>cat_Industry_Group</th>\n",
       "      <th>sub_region_cat</th>\n",
       "      <th>cat_venture</th>\n",
       "      <th>cat_seed</th>\n",
       "      <th>cat_funding_rounds</th>\n",
       "      <th>cat_total_investment</th>\n",
       "      <th>cat_status</th>\n",
       "    </tr>\n",
       "  </thead>\n",
       "  <tbody>\n",
       "    <tr>\n",
       "      <th>0</th>\n",
       "      <td>11</td>\n",
       "      <td>6</td>\n",
       "      <td>0</td>\n",
       "      <td>1</td>\n",
       "      <td>0</td>\n",
       "      <td>2</td>\n",
       "      <td>2</td>\n",
       "    </tr>\n",
       "    <tr>\n",
       "      <th>1</th>\n",
       "      <td>19</td>\n",
       "      <td>6</td>\n",
       "      <td>1</td>\n",
       "      <td>0</td>\n",
       "      <td>0</td>\n",
       "      <td>2</td>\n",
       "      <td>1</td>\n",
       "    </tr>\n",
       "    <tr>\n",
       "      <th>2</th>\n",
       "      <td>42</td>\n",
       "      <td>6</td>\n",
       "      <td>0</td>\n",
       "      <td>0</td>\n",
       "      <td>0</td>\n",
       "      <td>0</td>\n",
       "      <td>1</td>\n",
       "    </tr>\n",
       "    <tr>\n",
       "      <th>3</th>\n",
       "      <td>38</td>\n",
       "      <td>6</td>\n",
       "      <td>0</td>\n",
       "      <td>0</td>\n",
       "      <td>0</td>\n",
       "      <td>0</td>\n",
       "      <td>1</td>\n",
       "    </tr>\n",
       "    <tr>\n",
       "      <th>4</th>\n",
       "      <td>38</td>\n",
       "      <td>6</td>\n",
       "      <td>0</td>\n",
       "      <td>0</td>\n",
       "      <td>0</td>\n",
       "      <td>0</td>\n",
       "      <td>1</td>\n",
       "    </tr>\n",
       "  </tbody>\n",
       "</table>\n",
       "</div>"
      ],
      "text/plain": [
       "   cat_Industry_Group  sub_region_cat cat_venture cat_seed cat_funding_rounds  \\\n",
       "0                  11               6           0        1                  0   \n",
       "1                  19               6           1        0                  0   \n",
       "2                  42               6           0        0                  0   \n",
       "3                  38               6           0        0                  0   \n",
       "4                  38               6           0        0                  0   \n",
       "\n",
       "  cat_total_investment cat_status  \n",
       "0                    2          2  \n",
       "1                    2          1  \n",
       "2                    0          1  \n",
       "3                    0          1  \n",
       "4                    0          1  "
      ]
     },
     "execution_count": 15,
     "metadata": {},
     "output_type": "execute_result"
    }
   ],
   "source": [
    "df3 = df1[['cat_Industry_Group','sub_region_cat','cat_venture', 'cat_seed',\n",
    "       'cat_funding_rounds', 'cat_total_investment',\n",
    "        'cat_status']]\n",
    "df3.dropna(inplace=True)\n",
    "df3.head()"
   ]
  },
  {
   "cell_type": "code",
   "execution_count": 16,
   "id": "8a0735b4",
   "metadata": {},
   "outputs": [
    {
     "name": "stdout",
     "output_type": "stream",
     "text": [
      "cat_Industry_Group         int64\n",
      "sub_region_cat             int64\n",
      "cat_venture             category\n",
      "cat_seed                category\n",
      "cat_funding_rounds      category\n",
      "cat_total_investment    category\n",
      "cat_status                object\n",
      "dtype: object\n"
     ]
    }
   ],
   "source": [
    "print(df3.dtypes)"
   ]
  },
  {
   "cell_type": "code",
   "execution_count": 17,
   "id": "08ed41c6",
   "metadata": {},
   "outputs": [
    {
     "name": "stdout",
     "output_type": "stream",
     "text": [
      "              precision    recall  f1-score   support\n",
      "\n",
      "     Class 1       0.06      0.00      0.00       444\n",
      "     Class 2       0.86      0.99      0.92      6943\n",
      "     Class 3       0.15      0.01      0.01       682\n",
      "\n",
      "    accuracy                           0.86      8069\n",
      "   macro avg       0.36      0.33      0.31      8069\n",
      "weighted avg       0.76      0.86      0.80      8069\n",
      "\n",
      "Variable: cat_Industry_Group   Importance: 0.56\n",
      "Variable: sub_region_cat       Importance: 0.21\n",
      "Variable: cat_venture          Importance: 0.08\n",
      "Variable: cat_total_investment Importance: 0.08\n",
      "Variable: cat_seed             Importance: 0.03\n",
      "Variable: cat_funding_rounds   Importance: 0.03\n"
     ]
    }
   ],
   "source": [
    "Y = df3.cat_status\n",
    "Y = label_encoder.fit_transform(Y)\n",
    "X = df3.drop('cat_status', axis = 1) #setting features\n",
    "\n",
    "\n",
    "X_train, X_test, Y_train, Y_test = train_test_split(X, Y, test_size = 0.2, random_state = 42)# test and train dataset\n",
    "\n",
    "rfc = RandomForestClassifier(n_estimators = 1000, random_state = 42)\n",
    "rfc.fit(X_train, Y_train)#training the model\n",
    "rfc_pred_test = rfc.predict(X_test)\n",
    "print(classification_report(Y_test, rfc_pred_test, target_names=['Class 1', 'Class 2', 'Class 3'])) # model is overfitting for class2 and bad at fitting 1 and 3\n",
    "\n",
    "\n",
    "# Get numerical feature importances\n",
    "importances = list(rfc.feature_importances_)\n",
    "feature_list = list(X.columns)\n",
    "# List of tuples with variable and importance\n",
    "feature_importances = [(feature, round(importance, 2)) for feature, importance in zip(feature_list, importances)]\n",
    "# Sort the feature importances by most important first\n",
    "feature_importances = sorted(feature_importances, key = lambda x: x[1], reverse = True)\n",
    "# Print out the feature and importances\n",
    "[print('Variable: {:20} Importance: {}'.format(*pair)) for pair in feature_importances];"
   ]
  },
  {
   "cell_type": "markdown",
   "id": "e450d705",
   "metadata": {},
   "source": [
    "# Task2- PCA"
   ]
  },
  {
   "cell_type": "markdown",
   "id": "b96dd321",
   "metadata": {},
   "source": [
    "## PCA on all variables "
   ]
  },
  {
   "cell_type": "code",
   "execution_count": 18,
   "id": "fac6e35e",
   "metadata": {},
   "outputs": [],
   "source": [
    "from sklearn.decomposition import PCA"
   ]
  },
  {
   "cell_type": "code",
   "execution_count": 30,
   "id": "fa35c8e0",
   "metadata": {},
   "outputs": [
    {
     "name": "stdout",
     "output_type": "stream",
     "text": [
      "              precision    recall  f1-score   support\n",
      "\n",
      "     Class 1       0.00      0.00      0.00       444\n",
      "     Class 2       0.86      1.00      0.92      6943\n",
      "     Class 3       0.12      0.00      0.00       682\n",
      "\n",
      "    accuracy                           0.86      8069\n",
      "   macro avg       0.33      0.33      0.31      8069\n",
      "weighted avg       0.75      0.86      0.80      8069\n",
      "\n"
     ]
    }
   ],
   "source": [
    "Y = df2.cat_status\n",
    "Y = label_encoder.fit_transform(Y)\n",
    "#print(Y.dtypes)\n",
    "X = df2.drop('cat_status', axis = 1) #setting features\n",
    "#print(X.dtypes)\n",
    "X_train, X_test, Y_train, Y_test = train_test_split(X, Y, test_size = 0.2, random_state = 42)# test and train dataset\n",
    "\n",
    "pca = PCA(n_components=0.95, random_state=0)\n",
    "X_train_pca = pca.fit_transform(X_train)\n",
    "X_test_pca = pca.transform(X_test)\n",
    "\n",
    "rfc = RandomForestClassifier(n_estimators = 1000, random_state = 42)\n",
    "rfc.fit(X_train_pca, Y_train)#training the model\n",
    "rfc_pred_test = rfc.predict(X_test_pca)\n",
    "print(classification_report(Y_test, rfc_pred_test, target_names=['Class 1', 'Class 2', 'Class 3'])) # model is overfitting for class2 and bad at fitting 1 and 3\n",
    "\n",
    "\n"
   ]
  },
  {
   "cell_type": "code",
   "execution_count": 31,
   "id": "c8764a87",
   "metadata": {},
   "outputs": [
    {
     "name": "stdout",
     "output_type": "stream",
     "text": [
      "X_pca.shape: (32272, 5)\n",
      "Principal Components (Loadings): [[ 7.40588049e-01 -6.62401823e-02  1.15310914e-01  6.57858387e-01\n",
      "  -5.73535096e-03 -8.91739006e-04 -4.51852823e-04  2.78905015e-02\n",
      "  -1.19321370e-02 -2.40681394e-03  1.00384599e-02  2.38231664e-03\n",
      "   4.50660828e-04 -8.51253649e-04]\n",
      " [-5.99618761e-01  3.64784756e-01  8.19250050e-02  6.94206558e-01\n",
      "  -5.71788367e-03  2.16011769e-02  9.64719941e-03  8.20412866e-02\n",
      "   7.33771392e-02  2.84034312e-02  7.07294156e-02  1.43656811e-02\n",
      "   4.87012122e-03  2.85034850e-03]\n",
      " [ 2.42089000e-01  8.32800042e-01  4.11663206e-01 -2.57224719e-01\n",
      "  -1.24212991e-02 -2.17369455e-02  2.65555832e-03 -7.20905229e-02\n",
      "  -2.08232732e-02 -2.24165414e-02 -7.21976957e-02 -1.37704639e-02\n",
      "  -4.69838912e-03 -3.82856982e-03]\n",
      " [-9.79752857e-02 -3.32951482e-01  7.84662590e-01 -7.98744832e-02\n",
      "   7.92864947e-03  2.11687029e-02  2.68770522e-02  4.88819266e-01\n",
      "   1.16026278e-01  3.89148498e-02  4.69698910e-02  9.28488200e-03\n",
      "   2.83477567e-03  3.78606899e-03]\n",
      " [-4.53730130e-02 -1.60647220e-01  2.82895761e-01  2.66696899e-02\n",
      "   6.88135480e-03  3.48705947e-02  9.28227692e-03 -7.21001599e-01\n",
      "   6.05849973e-01  4.60609710e-02  3.08463137e-02  6.05437560e-03\n",
      "   7.46616167e-04  5.93191789e-03]]\n"
     ]
    }
   ],
   "source": [
    "print(\"X_pca.shape: {}\".format(X_train_pca.shape))\n",
    "print(\"Principal Components (Loadings):\", pca.components_)"
   ]
  },
  {
   "cell_type": "code",
   "execution_count": 32,
   "id": "6c493322",
   "metadata": {},
   "outputs": [
    {
     "name": "stdout",
     "output_type": "stream",
     "text": [
      "特征所占百分比:0.9549507150837337\n"
     ]
    }
   ],
   "source": [
    "print(\"特征所占百分比:{}\".format(sum(pca.explained_variance_ratio_)))"
   ]
  },
  {
   "cell_type": "code",
   "execution_count": 33,
   "id": "94029d7f",
   "metadata": {},
   "outputs": [
    {
     "name": "stdout",
     "output_type": "stream",
     "text": [
      "每个特征所占百分比 [0.74842046 0.09616604 0.05016638 0.03827788 0.02191995]\n"
     ]
    }
   ],
   "source": [
    "print(\"每个特征所占百分比\",pca.explained_variance_ratio_)"
   ]
  },
  {
   "cell_type": "code",
   "execution_count": 34,
   "id": "6a53d6fd",
   "metadata": {},
   "outputs": [
    {
     "name": "stdout",
     "output_type": "stream",
     "text": [
      "降维后方差损失:0.04504928491626625\n"
     ]
    }
   ],
   "source": [
    "print(\"降维后方差损失:{}\".format(1 - pca.explained_variance_ratio_.sum()))"
   ]
  },
  {
   "cell_type": "markdown",
   "id": "be0bb823",
   "metadata": {},
   "source": [
    "## PCA on variables been selected by Random Forest"
   ]
  },
  {
   "cell_type": "code",
   "execution_count": 35,
   "id": "752f3ae1",
   "metadata": {},
   "outputs": [
    {
     "name": "stdout",
     "output_type": "stream",
     "text": [
      "              precision    recall  f1-score   support\n",
      "\n",
      "     Class 1       0.06      0.00      0.00       444\n",
      "     Class 2       0.86      0.99      0.92      6943\n",
      "     Class 3       0.12      0.01      0.01       682\n",
      "\n",
      "    accuracy                           0.86      8069\n",
      "   macro avg       0.35      0.33      0.31      8069\n",
      "weighted avg       0.75      0.86      0.79      8069\n",
      "\n"
     ]
    }
   ],
   "source": [
    "Y = df3.cat_status\n",
    "Y = label_encoder.fit_transform(Y)\n",
    "X = df3.drop('cat_status', axis = 1) #setting features\n",
    "X_train, X_test, Y_train, Y_test = train_test_split(X, Y, test_size = 0.2, random_state = 42)# test and train dataset\n",
    "\n",
    "pca = PCA(n_components=0.95, random_state=0)\n",
    "X_train_pca = pca.fit_transform(X_train)\n",
    "X_test_pca = pca.transform(X_test)\n",
    "\n",
    "rfc = RandomForestClassifier(n_estimators = 1000, random_state = 42)\n",
    "rfc.fit(X_train_pca, Y_train)#training the model\n",
    "rfc_pred_test = rfc.predict(X_test_pca)\n",
    "print(classification_report(Y_test, rfc_pred_test, target_names=['Class 1', 'Class 2', 'Class 3'])) # model is overfitting for class2 and bad at fitting 1 and 3\n",
    "\n",
    "\n"
   ]
  },
  {
   "cell_type": "code",
   "execution_count": 36,
   "id": "3018a827",
   "metadata": {},
   "outputs": [
    {
     "name": "stdout",
     "output_type": "stream",
     "text": [
      "X_pca.shape: (32272, 2)\n"
     ]
    },
    {
     "data": {
      "text/plain": [
       "array([[-9.99986360e-01, -1.57427735e-03,  3.21866883e-03,\n",
       "        -2.38421385e-04,  9.20216575e-04,  3.67931521e-03],\n",
       "       [ 1.86293705e-03, -9.98237540e-01,  4.47398109e-02,\n",
       "        -4.31753588e-03,  1.21900690e-02,  3.67349237e-02]])"
      ]
     },
     "execution_count": 36,
     "metadata": {},
     "output_type": "execute_result"
    }
   ],
   "source": [
    "print(\"X_pca.shape: {}\".format(X_train_pca.shape))\n",
    "pca.components_"
   ]
  },
  {
   "cell_type": "code",
   "execution_count": 37,
   "id": "dbc2f13a",
   "metadata": {},
   "outputs": [
    {
     "name": "stdout",
     "output_type": "stream",
     "text": [
      "特征所占百分比:0.9809914653306805\n"
     ]
    }
   ],
   "source": [
    "print(\"特征所占百分比:{}\".format(sum(pca.explained_variance_ratio_)))"
   ]
  },
  {
   "cell_type": "code",
   "execution_count": 38,
   "id": "995db19c",
   "metadata": {},
   "outputs": [
    {
     "name": "stdout",
     "output_type": "stream",
     "text": [
      "每个特征所占百分比 [0.94783255 0.03315892]\n"
     ]
    }
   ],
   "source": [
    "print(\"每个特征所占百分比\",pca.explained_variance_ratio_)"
   ]
  },
  {
   "cell_type": "code",
   "execution_count": 39,
   "id": "5858bb81",
   "metadata": {},
   "outputs": [
    {
     "name": "stdout",
     "output_type": "stream",
     "text": [
      "降维后方差损失:0.01900853466931951\n"
     ]
    }
   ],
   "source": [
    "print(\"降维后方差损失:{}\".format(1 - pca.explained_variance_ratio_.sum()))"
   ]
  },
  {
   "cell_type": "code",
   "execution_count": 40,
   "id": "f1dcd7dd",
   "metadata": {},
   "outputs": [
    {
     "name": "stdout",
     "output_type": "stream",
     "text": [
      "Principal Components (Loadings): [[-9.99986360e-01 -1.57427735e-03  3.21866883e-03 -2.38421385e-04\n",
      "   9.20216575e-04  3.67931521e-03]\n",
      " [ 1.86293705e-03 -9.98237540e-01  4.47398109e-02 -4.31753588e-03\n",
      "   1.21900690e-02  3.67349237e-02]]\n"
     ]
    }
   ],
   "source": [
    "print(\"Principal Components (Loadings):\", pca.components_)"
   ]
  },
  {
   "cell_type": "code",
   "execution_count": null,
   "id": "416214e1",
   "metadata": {},
   "outputs": [],
   "source": []
  }
 ],
 "metadata": {
  "kernelspec": {
   "display_name": "Python 3 (ipykernel)",
   "language": "python",
   "name": "python3"
  },
  "language_info": {
   "codemirror_mode": {
    "name": "ipython",
    "version": 3
   },
   "file_extension": ".py",
   "mimetype": "text/x-python",
   "name": "python",
   "nbconvert_exporter": "python",
   "pygments_lexer": "ipython3",
   "version": "3.9.12"
  }
 },
 "nbformat": 4,
 "nbformat_minor": 5
}
